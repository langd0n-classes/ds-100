{
 "cells": [
  {
   "cell_type": "markdown",
   "metadata": {},
   "source": [
    "# **The DS-100 Guide**\n"
   ]
  },
  {
   "cell_type": "markdown",
   "metadata": {},
   "source": [
    "## Table of Contents\n",
    "- [The Shared Computer Cluster (SCC)](#'scc')\n",
    "- [Vanilla Python](#'python')\n",
    "- [Packages](#packages)\n",
    "    - [NumPy](#numpy)\n",
    "    - [datascience](#datascience)"
   ]
  },
  {
   "cell_type": "markdown",
   "metadata": {},
   "source": [
    "\n",
    "## **The Shared Computing Cluster (SCC)** <a id='scc'></a>\n",
    "\n",
    "The SCC is what all students in DS-100 will be using to run the files required for their assignments. It is a diverse Linux cluster of numerous components including over 9,000 shared CPU cores, 250 GPU cores and 1 petabyte of storage. The SCC is mainly used for tasks that require high-performance computing from disciplines such as engineering, biostatistics, and machine learning. \n"
   ]
  },
  {
   "cell_type": "markdown",
   "metadata": {},
   "source": [
    "### **Accessing the SCC**\n",
    "\n",
    "1. Ensure that you are not on Boston University’s “BU (802.1x)” wifi network\n",
    "2. Go to [the SCC site](https://scc-ondemand.bu.edu)\n",
    "3. Login to the SCC with you kerberos username and password (the account you use for the student link)\n",
    "4. Optional: Save/bookmark this page as you will be accessing it often\n"
   ]
  },
  {
   "cell_type": "markdown",
   "metadata": {},
   "source": [
    "\n",
    "## **Python** <a id='python'></a>"
   ]
  },
  {
   "cell_type": "markdown",
   "metadata": {},
   "source": [
    "\n",
    "### **Data Types**"
   ]
  },
  {
   "cell_type": "markdown",
   "metadata": {},
   "source": [
    "#### Int (integer) (Lec #4)\n",
    "\n",
    "Ints in Python can be an integer of any size. Additionally, it never has a decimal point."
   ]
  },
  {
   "cell_type": "code",
   "execution_count": 93,
   "metadata": {},
   "outputs": [],
   "source": [
    "x_int = 1234"
   ]
  },
  {
   "cell_type": "markdown",
   "metadata": {},
   "source": [
    "#### Float (int w/ decimal point) (Lec #4)\n",
    "\n",
    "Floats always have a decimal point, but they have an optional fractional part. They also have a limited size and precision of 15-16 decimal places. Floats **can be wrong** in the final few decimal places after arithmetic (due to how they are stored in memory, see __[here](https://stackoverflow.com/questions/21895756/why-are-floating-point-numbers-inaccurate)__)."
   ]
  },
  {
   "cell_type": "code",
   "execution_count": 94,
   "metadata": {},
   "outputs": [],
   "source": [
    "x_float = 12.34"
   ]
  },
  {
   "cell_type": "markdown",
   "metadata": {},
   "source": [
    "#### Str (Strings & text) (Lec #4)"
   ]
  },
  {
   "cell_type": "markdown",
   "metadata": {},
   "source": [
    "#### Arrays/Lists "
   ]
  },
  {
   "cell_type": "markdown",
   "metadata": {},
   "source": [
    "\n",
    "### **Assignment Statements** (Lec #3)\n",
    "\n",
    "Assignment statements, denoted by a *single* =, are a type of statement that binds a variable to a value. Additionally, variable names are *case-sensitive* (i.e. 'A' is not equal to 'a')."
   ]
  },
  {
   "cell_type": "code",
   "execution_count": 95,
   "metadata": {},
   "outputs": [
    {
     "name": "stdout",
     "output_type": "stream",
     "text": [
      "<class 'str'>\n",
      "<class 'list'>\n",
      "False\n"
     ]
    }
   ],
   "source": [
    "hw_due_date = 'On Thursday'\n",
    "print(type(hw_due_date))\n",
    "\n",
    "# The value and type can be overwritten\n",
    "\n",
    "hw_due_date = ['On Thursday']\n",
    "print(type(hw_due_date))\n",
    "\n",
    "a = 0\n",
    "A = 1\n",
    "print(a == A)"
   ]
  },
  {
   "cell_type": "markdown",
   "metadata": {},
   "source": [
    "\n",
    "### **Using Functions** (Lec #3)\n",
    "\n",
    "A function is a block of code that will run whenever it is called. The variable listed inside of the parentheses are paramters, while the actual value that is sent to the function are arguments. Additionally, some functions can take *multiple* arguments (i.e. np.array(), max(), min(), etc)."
   ]
  },
  {
   "cell_type": "code",
   "execution_count": 96,
   "metadata": {},
   "outputs": [
    {
     "name": "stdout",
     "output_type": "stream",
     "text": [
      "<class 'int'> <class 'float'>\n"
     ]
    }
   ],
   "source": [
    "# From Lec #4\n",
    "# type() is a function, while x_int and x_float are parameters in this case\n",
    "# print() is also a function, and it can take more than one argument\n",
    "\n",
    "print(type(x_int), type(x_float))"
   ]
  },
  {
   "cell_type": "markdown",
   "metadata": {},
   "source": [
    "It is also possible to daisy-chain functions together. In the example below, lower() makes all the letters into lower case, while replace() replaces *all* instances of 'han' with 'c'.\n"
   ]
  },
  {
   "cell_type": "code",
   "execution_count": 97,
   "metadata": {},
   "outputs": [
    {
     "name": "stdout",
     "output_type": "stream",
     "text": [
      "Ethan Chang\n",
      "etc ccg\n"
     ]
    }
   ],
   "source": [
    "name = 'Ethan Chang'\n",
    "weird_name = name.lower().replace('han', 'c')\n",
    "print(name)\n",
    "print(weird_name)"
   ]
  },
  {
   "cell_type": "markdown",
   "metadata": {},
   "source": [
    "\n",
    "### **Conversions** (Lec #4)"
   ]
  },
  {
   "cell_type": "markdown",
   "metadata": {},
   "source": [
    "\n",
    "## **Importing packages** <a id='packages'></a>"
   ]
  },
  {
   "cell_type": "code",
   "execution_count": 98,
   "metadata": {},
   "outputs": [],
   "source": [
    "import numpy as np\n",
    "from datascience import *"
   ]
  },
  {
   "cell_type": "markdown",
   "metadata": {},
   "source": [
    "\n",
    "## **Package: NumPy** <a id='numpy'></a>"
   ]
  },
  {
   "cell_type": "markdown",
   "metadata": {},
   "source": [
    "### **NumPy Functions**"
   ]
  },
  {
   "cell_type": "markdown",
   "metadata": {},
   "source": [
    "#### np.array"
   ]
  },
  {
   "cell_type": "markdown",
   "metadata": {},
   "source": [
    "#### np.arange"
   ]
  },
  {
   "cell_type": "markdown",
   "metadata": {},
   "source": [
    "#### np.diff"
   ]
  },
  {
   "cell_type": "markdown",
   "metadata": {},
   "source": [
    "\n",
    "## **Package: datascience** <a id='datascience'></a>"
   ]
  },
  {
   "cell_type": "markdown",
   "metadata": {},
   "source": [
    "### **Creating a table**\n"
   ]
  },
  {
   "cell_type": "code",
   "execution_count": 99,
   "metadata": {},
   "outputs": [
    {
     "data": {
      "text/html": [
       "<table border=\"1\" class=\"dataframe\">\n",
       "    <thead>\n",
       "        <tr>\n",
       "            <th>Label</th> <th>Course Assistants</th> <th>Major</th>\n",
       "        </tr>\n",
       "    </thead>\n",
       "    <tbody>\n",
       "        <tr>\n",
       "            <td>Row 1</td> <td>Ethan Chang      </td> <td>Data Science</td>\n",
       "        </tr>\n",
       "        <tr>\n",
       "            <td>Row 2</td> <td>?                </td> <td>N/A         </td>\n",
       "        </tr>\n",
       "        <tr>\n",
       "            <td>Row 3</td> <td>?                </td> <td>N/A         </td>\n",
       "        </tr>\n",
       "        <tr>\n",
       "            <td>Row 4</td> <td>?                </td> <td>N/A         </td>\n",
       "        </tr>\n",
       "    </tbody>\n",
       "</table>"
      ],
      "text/plain": [
       "Label | Course Assistants | Major\n",
       "Row 1 | Ethan Chang       | Data Science\n",
       "Row 2 | ?                 | N/A\n",
       "Row 3 | ?                 | N/A\n",
       "Row 4 | ?                 | N/A"
      ]
     },
     "execution_count": 99,
     "metadata": {},
     "output_type": "execute_result"
    }
   ],
   "source": [
    "ca_table = Table().with_columns(\n",
    "    'Label', ['Row 1', 'Row 2', 'Row 3', 'Row 4'],\n",
    "    'Course Assistants', ['Ethan Chang', '?', '?', '?'],\n",
    "    'Major', ['Data Science', 'N/A', 'N/A', 'N/A']\n",
    ")\n",
    "\n",
    "ca_table"
   ]
  },
  {
   "cell_type": "markdown",
   "metadata": {},
   "source": [
    "### **Table Structure** (Lec #3)\n",
    "\n",
    "If you run the code cell below, you will see a table with 4 rows and 3 columns. The name of a column (also known as a label) will always be at the top, and the entries for the table will be below it. "
   ]
  },
  {
   "cell_type": "code",
   "execution_count": 100,
   "metadata": {},
   "outputs": [
    {
     "data": {
      "text/html": [
       "<table border=\"1\" class=\"dataframe\">\n",
       "    <thead>\n",
       "        <tr>\n",
       "            <th>Label</th> <th>Course Assistants</th> <th>Major</th>\n",
       "        </tr>\n",
       "    </thead>\n",
       "    <tbody>\n",
       "        <tr>\n",
       "            <td>Row 1</td> <td>Ethan Chang      </td> <td>Data Science</td>\n",
       "        </tr>\n",
       "        <tr>\n",
       "            <td>Row 2</td> <td>?                </td> <td>N/A         </td>\n",
       "        </tr>\n",
       "        <tr>\n",
       "            <td>Row 3</td> <td>?                </td> <td>N/A         </td>\n",
       "        </tr>\n",
       "        <tr>\n",
       "            <td>Row 4</td> <td>?                </td> <td>N/A         </td>\n",
       "        </tr>\n",
       "    </tbody>\n",
       "</table>"
      ],
      "text/plain": [
       "Label | Course Assistants | Major\n",
       "Row 1 | Ethan Chang       | Data Science\n",
       "Row 2 | ?                 | N/A\n",
       "Row 3 | ?                 | N/A\n",
       "Row 4 | ?                 | N/A"
      ]
     },
     "execution_count": 100,
     "metadata": {},
     "output_type": "execute_result"
    }
   ],
   "source": [
    "ca_table"
   ]
  },
  {
   "cell_type": "markdown",
   "metadata": {},
   "source": [
    "### **Table Operations**"
   ]
  },
  {
   "cell_type": "markdown",
   "metadata": {},
   "source": [
    "#### t.select(label) (Lec #3)"
   ]
  },
  {
   "cell_type": "markdown",
   "metadata": {},
   "source": [
    "#### t.drop(label) (Lec #3)"
   ]
  },
  {
   "cell_type": "markdown",
   "metadata": {},
   "source": [
    "#### t.sort(label) (Lec #3)"
   ]
  },
  {
   "cell_type": "markdown",
   "metadata": {},
   "source": [
    "#### t.where(label, condition) (Lec #3)"
   ]
  },
  {
   "cell_type": "markdown",
   "metadata": {},
   "source": []
  }
 ],
 "metadata": {
  "kernelspec": {
   "display_name": "Python 3.10.1 64-bit",
   "language": "python",
   "name": "python3"
  },
  "language_info": {
   "codemirror_mode": {
    "name": "ipython",
    "version": 3
   },
   "file_extension": ".py",
   "mimetype": "text/x-python",
   "name": "python",
   "nbconvert_exporter": "python",
   "pygments_lexer": "ipython3",
   "version": "3.10.7"
  },
  "orig_nbformat": 4,
  "vscode": {
   "interpreter": {
    "hash": "3a8d20506be82a4461f9b41041c14fdfe08e8897388d050f9d1ea4a80103d22a"
   }
  }
 },
 "nbformat": 4,
 "nbformat_minor": 2
}

{
 "cells": [
  {
   "cell_type": "markdown",
   "metadata": {},
   "source": [
    "# **The DS-100 Guide**\n"
   ]
  },
  {
   "cell_type": "markdown",
   "metadata": {},
   "source": [
    "## Table of Contents\n",
    "- [The Shared Computer Cluster (SCC)](#scc)\n",
    "- [Vanilla Python](#python)\n",
    "- [Packages](#packages)\n",
    "    - [NumPy](#numpy)\n",
    "    - [datascience](#datascience)\n",
    "- [Understanding Documentation](#documentation)\n",
    "- [GitHub](#github)\n",
    "\n",
    "<sup>The table of contents is only usable in Jupyter Notebooks or on [nbviewer](https://nbviewer.org/github/langdon/ds-100/blob/cethan-ec_file_jupyter-draft/DS-100_Technical_Guide.ipynb). If you are viewing this on GitHub, you will need to simply scroll.</sup>"
   ]
  },
  {
   "cell_type": "markdown",
   "metadata": {},
   "source": [
    "---"
   ]
  },
  {
   "cell_type": "markdown",
   "metadata": {},
   "source": [
    "## **The Shared Computing Cluster (SCC)** <a id='scc'></a>\n",
    "\n",
    "The SCC is what all students in DS-100 will be using to run the files required for their assignments. It is a diverse Linux cluster of numerous components including over 9,000 shared CPU cores, 250 GPU cores and 1 petabyte of storage. The SCC is mainly used for tasks that require high-performance computing from disciplines such as engineering, biostatistics, and machine learning. \n"
   ]
  },
  {
   "cell_type": "markdown",
   "metadata": {},
   "source": [
    "### **Accessing the SCC**\n",
    "\n",
    "1. Ensure that you are not on Boston University’s “BU (802.1x)” wifi network\n",
    "2. Go to [the SCC site](https://scc-ondemand.bu.edu)\n",
    "3. Login to the SCC with you kerberos username and password (the account you use for the student link)\n",
    "4. Optional: Save/bookmark this page as you will be accessing it often\n"
   ]
  },
  {
   "cell_type": "markdown",
   "metadata": {},
   "source": [
    "---"
   ]
  },
  {
   "cell_type": "markdown",
   "metadata": {},
   "source": [
    "## **Python** <a id='python'></a>"
   ]
  },
  {
   "cell_type": "markdown",
   "metadata": {},
   "source": [
    "\n",
    "### **Data Types**"
   ]
  },
  {
   "cell_type": "markdown",
   "metadata": {},
   "source": [
    "#### Int (integer) (Lec #4)\n",
    "\n",
    "Ints in Python can be an integer of any size. Additionally, it never has a decimal point."
   ]
  },
  {
   "cell_type": "code",
   "execution_count": 1,
   "metadata": {},
   "outputs": [],
   "source": [
    "x_int = 1234"
   ]
  },
  {
   "cell_type": "markdown",
   "metadata": {},
   "source": [
    "#### Float (int w/ decimal point) (Lec #4)\n",
    "\n",
    "Floats always have a decimal point, but they have an optional fractional part. They also have a limited size and precision of 15-16 decimal places. Floats **can be wrong** in the final few decimal places after arithmetic (due to how they are stored in memory, see __[here](https://stackoverflow.com/questions/21895756/why-are-floating-point-numbers-inaccurate)__)."
   ]
  },
  {
   "cell_type": "code",
   "execution_count": 2,
   "metadata": {},
   "outputs": [],
   "source": [
    "x_float = 12.34"
   ]
  },
  {
   "cell_type": "markdown",
   "metadata": {},
   "source": [
    "#### Str (Strings & text) (Lec #4)\n",
    "\n",
    "Strings are a set of characters of any length. Additionally, strings that consist of only numbers and/or one decimal point can be converted into ints and floats with their respective functions (int(), float()). While all values can be converted into a string, strings won't always be able to change back into their previous data type."
   ]
  },
  {
   "cell_type": "code",
   "execution_count": 3,
   "metadata": {},
   "outputs": [
    {
     "name": "stdout",
     "output_type": "stream",
     "text": [
      "1234 <class 'str'>\n",
      "1234 <class 'int'>\n",
      "1234 <class 'str'>\n"
     ]
    }
   ],
   "source": [
    "x_str = '1234'\n",
    "print(x_str, type(x_str))\n",
    "\n",
    "x_str_to_int = int(x_str)\n",
    "print(x_str_to_int, type(x_str_to_int))\n",
    "\n",
    "x_str_revert = str(x_str_to_int)\n",
    "print(x_str_revert, type(x_str_revert))"
   ]
  },
  {
   "cell_type": "markdown",
   "metadata": {},
   "source": [
    "#### Arrays/Lists \n",
    "\n",
    "Arrays (or lists) contain a sequence of values.\n",
    "\n",
    "- All elements of an array should have the same value\n",
    "    - In python, an array/list can have a variety of different values\n",
    "    - For arrays from NumPy or the datascience package, each element must be of the same type\n",
    "- Arithmetic is applied to each element individually\n",
    "- Adding arrays adds their respective elements together (if they're the same length)\n",
    "    - Using '+' on lists from python will *not* add their elements together, it will instead *concatenate* multiple lists and create a new list\n",
    "- A column of a table from the datascience package is an array"
   ]
  },
  {
   "cell_type": "code",
   "execution_count": 4,
   "metadata": {},
   "outputs": [
    {
     "name": "stdout",
     "output_type": "stream",
     "text": [
      "NumPy array:\n",
      " [6 6 6 6 6]\n",
      "------------------\n",
      "Python list:\n",
      " [1, 2, 3, 4, 5, 5, 4, 3, 2, 1]\n"
     ]
    }
   ],
   "source": [
    "import numpy as np\n",
    "np_array1 = np.array([1, 2, 3, 4, 5])\n",
    "np_array2 = np.array([5, 4, 3, 2, 1])\n",
    "\n",
    "# adding two numpy arrays together will add each element in the array \n",
    "# to the corresponding element in the other array\n",
    "print('NumPy array:\\n', np_array1 + np_array2)\n",
    "\n",
    "\n",
    "print('------------------')\n",
    "\n",
    "\n",
    "py_list1 = [1, 2, 3, 4, 5]\n",
    "py_list2 = [5, 4, 3, 2, 1]\n",
    "\n",
    "# adding two python lists together will concatenate the lists, NOT add the elements\n",
    "print('Python list:\\n', py_list1 + py_list2)\n"
   ]
  },
  {
   "cell_type": "markdown",
   "metadata": {},
   "source": [
    "\n",
    "### **Assignment Statements** (Lec #3)\n",
    "\n",
    "Assignment statements, denoted by a *single* =, are a type of statement that binds a variable to a value. Additionally, variable names are *case-sensitive* (i.e. 'A' is not equal to 'a')."
   ]
  },
  {
   "cell_type": "code",
   "execution_count": 5,
   "metadata": {},
   "outputs": [
    {
     "name": "stdout",
     "output_type": "stream",
     "text": [
      "<class 'str'>\n",
      "<class 'list'>\n",
      "False\n"
     ]
    }
   ],
   "source": [
    "hw_due_date = 'On Thursday'\n",
    "print(type(hw_due_date))\n",
    "\n",
    "# The value and type can be overwritten\n",
    "\n",
    "hw_due_date = ['On Thursday']\n",
    "print(type(hw_due_date))\n",
    "\n",
    "a = 0\n",
    "A = 1\n",
    "print(a == A)"
   ]
  },
  {
   "cell_type": "markdown",
   "metadata": {},
   "source": [
    "\n",
    "### **Using Functions** (Lec #3)\n",
    "\n",
    "A function is a block of code that will run whenever it is called. The variable listed inside of the parentheses are parameters, while the actual value that is sent to the function are arguments. Additionally, some functions can take *multiple* arguments (i.e. np.array(), max(), min(), etc).\n",
    "\n",
    "**Some** functions have optional parameters. These parameters do not need to be specified in-order for the function to work. For example, in np.array() you can specify the type of data all elements should be, but NumPy can do that automatically if you choose to *not* specify."
   ]
  },
  {
   "cell_type": "code",
   "execution_count": 6,
   "metadata": {},
   "outputs": [
    {
     "name": "stdout",
     "output_type": "stream",
     "text": [
      "<class 'int'> <class 'float'>\n"
     ]
    }
   ],
   "source": [
    "# From Lec #4\n",
    "# type() is a function, while x_int and x_float are parameters in this case\n",
    "# print() is also a function, and it can take more than one argument\n",
    "\n",
    "print(type(x_int), type(x_float))"
   ]
  },
  {
   "cell_type": "markdown",
   "metadata": {},
   "source": [
    "It is also possible to daisy-chain functions together. In the example below, lower() makes all the letters into lower case, while replace() replaces *all* instances of 'han' with 'c'.\n"
   ]
  },
  {
   "cell_type": "code",
   "execution_count": 7,
   "metadata": {},
   "outputs": [
    {
     "name": "stdout",
     "output_type": "stream",
     "text": [
      "Ethan Chang\n",
      "etc ccg\n"
     ]
    }
   ],
   "source": [
    "name = 'Ethan Chang'\n",
    "weird_name = name.lower().replace('han', 'c')\n",
    "print(name)\n",
    "print(weird_name)"
   ]
  },
  {
   "cell_type": "markdown",
   "metadata": {},
   "source": [
    "\n",
    "### **Conversions** (Lec #4)\n",
    "\n",
    "In Python, the type of a value can be changed very often, but sometimes you will be unable to change it back to its original format or value. \n",
    "\n",
    "Use functions to change the type of a value:\n",
    "- int()\n",
    "- float()\n",
    "- str()\n",
    "- list()"
   ]
  },
  {
   "cell_type": "code",
   "execution_count": 8,
   "metadata": {},
   "outputs": [
    {
     "name": "stdout",
     "output_type": "stream",
     "text": [
      "<class 'list'> [1, 2, 3, 4, 5]\n",
      "<class 'str'> [1, 2, 3, 4, 5]\n",
      "<class 'list'> ['[', '1', ',', ' ', '2', ',', ' ', '3', ',', ' ', '4', ',', ' ', '5', ']']\n"
     ]
    }
   ],
   "source": [
    "conv_list = [1, 2, 3, 4, 5]\n",
    "print(type(conv_list), conv_list)\n",
    "\n",
    "# changing the list to a str\n",
    "conv_list_str = str(conv_list)\n",
    "print(type(conv_list_str), conv_list_str)\n",
    "\n",
    "# attempting to change the str back to its original list form\n",
    "# note how it does not work\n",
    "conv_list_revert = list(conv_list_str)\n",
    "print(type(conv_list_revert), conv_list_revert)"
   ]
  },
  {
   "cell_type": "markdown",
   "metadata": {},
   "source": [
    "---"
   ]
  },
  {
   "cell_type": "markdown",
   "metadata": {},
   "source": [
    "## **Importing packages** <a id='packages'></a>\n",
    "\n",
    "To import a package, use the *import* keyword.\n",
    "\n",
    "From\n",
    "- Using *from* will let you specify what functions to import from a package or file, use * to import everything\n",
    "- When using *from*, you can use functions as if they were defined within the current file\n",
    "    - For example, if you simply import datascience, you will need to add 'datascience' before every function from the package\n",
    "        - datascience.Table() instead of just Table()\n",
    "\n",
    "As\n",
    "- Using *as* will let you rename a package or function\n",
    "    - For example, you can import numpy as np, which will let you use np.array() instead of numpy.array()\n",
    "    - This effectively shortens the number of characters you need to type\n",
    "    - Some packages like numpy are commonly imported as np, so it is good practice to do always import numpy as np"
   ]
  },
  {
   "cell_type": "code",
   "execution_count": 9,
   "metadata": {},
   "outputs": [],
   "source": [
    "import numpy as np\n",
    "from datascience import *"
   ]
  },
  {
   "cell_type": "markdown",
   "metadata": {},
   "source": [
    "\n",
    "## **Package: NumPy** <a id='numpy'></a>"
   ]
  },
  {
   "cell_type": "markdown",
   "metadata": {},
   "source": [
    "### **NumPy Functions**"
   ]
  },
  {
   "cell_type": "markdown",
   "metadata": {},
   "source": [
    "#### [np.array](https://numpy.org/doc/stable/reference/generated/numpy.array.html)\n",
    "np.array('array_like object', dtype=None)\n",
    "\n",
    "Arrays from NumPy are similar to the lists in Python, but they are not as flexible when it comes to the variability of data types it can hold at once. All elements within a NumPy array must be the same data type. NumPy will try to pick the data type that all values within the array can fit into (*without* removing any parts of an element)."
   ]
  },
  {
   "cell_type": "code",
   "execution_count": 10,
   "metadata": {},
   "outputs": [
    {
     "name": "stdout",
     "output_type": "stream",
     "text": [
      "<U32 ['1' '2' '3' '4.0' '5']\n",
      "float64 [ 1.  2.  3.  4.  5.]\n",
      "<U1 ['1' '2' '3' '4' '5']\n"
     ]
    }
   ],
   "source": [
    "# NumPy is unsure if the '2' can become an int or float, \n",
    "# so it converts all the elements to str\n",
    "array_mixed1 = np.array([1, '2', 3, 4.0, 5])\n",
    "print(array_mixed1.dtype, array_mixed1)\n",
    "\n",
    "# Numpy tries to keep the information stored in the '4.0' float \n",
    "# so it converts all the other elements to float\n",
    "array_mixed2 = np.array([1, 2, 3, 4.0, 5])\n",
    "print(array_mixed2.dtype, array_mixed2)\n",
    "\n",
    "# You can however force NumPy to convert all the elements to a specific type\n",
    "array_mixed3 = np.array([1, 2, 3, 4, 5], dtype=str)\n",
    "print(array_mixed3.dtype, array_mixed3)"
   ]
  },
  {
   "cell_type": "markdown",
   "metadata": {},
   "source": [
    "#### [np.arange](https://numpy.org/doc/stable/reference/generated/numpy.arange.html?)\n",
    "\n",
    "np.arange(start, stop, step)\n",
    "\n",
    "np.arange creates an array that contains a sequence of numbers. The first argument is the starting number, the second argument is the stopping number, and the third argument is the step size. The stopping number is not included in the array."
   ]
  },
  {
   "cell_type": "code",
   "execution_count": 11,
   "metadata": {},
   "outputs": [
    {
     "name": "stdout",
     "output_type": "stream",
     "text": [
      "[1 3 5 7 9]\n",
      "[9 7 5 3 1]\n"
     ]
    }
   ],
   "source": [
    "# A normal array counting by 2s\n",
    "np_arange = np.arange(1, 10, 2)\n",
    "print(np_arange)\n",
    "\n",
    "# A normal array counting by 2s, but backwards\n",
    "np_arange = np.arange(9, 0, -2)\n",
    "print(np_arange)"
   ]
  },
  {
   "cell_type": "markdown",
   "metadata": {},
   "source": [
    "\n",
    "## **Package: datascience** <a id='datascience'></a>"
   ]
  },
  {
   "cell_type": "markdown",
   "metadata": {},
   "source": [
    "### **Creating a table**\n"
   ]
  },
  {
   "cell_type": "code",
   "execution_count": 12,
   "metadata": {},
   "outputs": [
    {
     "data": {
      "text/html": [
       "<table border=\"1\" class=\"dataframe\">\n",
       "    <thead>\n",
       "        <tr>\n",
       "            <th>Label</th> <th>Course Assistants</th> <th>Major</th>\n",
       "        </tr>\n",
       "    </thead>\n",
       "    <tbody>\n",
       "        <tr>\n",
       "            <td>Row 1</td> <td>Ethan Chang      </td> <td>Data Science</td>\n",
       "        </tr>\n",
       "        <tr>\n",
       "            <td>Row 2</td> <td>?                </td> <td>N/A         </td>\n",
       "        </tr>\n",
       "        <tr>\n",
       "            <td>Row 3</td> <td>?                </td> <td>N/A         </td>\n",
       "        </tr>\n",
       "        <tr>\n",
       "            <td>Row 4</td> <td>?                </td> <td>N/A         </td>\n",
       "        </tr>\n",
       "    </tbody>\n",
       "</table>"
      ],
      "text/plain": [
       "Label | Course Assistants | Major\n",
       "Row 1 | Ethan Chang       | Data Science\n",
       "Row 2 | ?                 | N/A\n",
       "Row 3 | ?                 | N/A\n",
       "Row 4 | ?                 | N/A"
      ]
     },
     "execution_count": 12,
     "metadata": {},
     "output_type": "execute_result"
    }
   ],
   "source": [
    "ca_table = Table().with_columns(\n",
    "    'Label', ['Row 1', 'Row 2', 'Row 3', 'Row 4'],\n",
    "    'Course Assistants', ['Ethan Chang', '?', '?', '?'],\n",
    "    'Major', ['Data Science', 'N/A', 'N/A', 'N/A']\n",
    ")\n",
    "\n",
    "ca_table"
   ]
  },
  {
   "cell_type": "markdown",
   "metadata": {},
   "source": [
    "### **Table Structure** (Lec #3)\n",
    "\n",
    "If you run the code cell below, you will see a table with 4 rows and 3 columns. The name of a column (also known as a label) will always be at the top, and the entries for the table will be below it. "
   ]
  },
  {
   "cell_type": "code",
   "execution_count": 13,
   "metadata": {},
   "outputs": [
    {
     "data": {
      "text/html": [
       "<table border=\"1\" class=\"dataframe\">\n",
       "    <thead>\n",
       "        <tr>\n",
       "            <th>Label</th> <th>Course Assistants</th> <th>Major</th>\n",
       "        </tr>\n",
       "    </thead>\n",
       "    <tbody>\n",
       "        <tr>\n",
       "            <td>Row 1</td> <td>Ethan Chang      </td> <td>Data Science</td>\n",
       "        </tr>\n",
       "        <tr>\n",
       "            <td>Row 2</td> <td>?                </td> <td>N/A         </td>\n",
       "        </tr>\n",
       "        <tr>\n",
       "            <td>Row 3</td> <td>?                </td> <td>N/A         </td>\n",
       "        </tr>\n",
       "        <tr>\n",
       "            <td>Row 4</td> <td>?                </td> <td>N/A         </td>\n",
       "        </tr>\n",
       "    </tbody>\n",
       "</table>"
      ],
      "text/plain": [
       "Label | Course Assistants | Major\n",
       "Row 1 | Ethan Chang       | Data Science\n",
       "Row 2 | ?                 | N/A\n",
       "Row 3 | ?                 | N/A\n",
       "Row 4 | ?                 | N/A"
      ]
     },
     "execution_count": 13,
     "metadata": {},
     "output_type": "execute_result"
    }
   ],
   "source": [
    "ca_table"
   ]
  },
  {
   "cell_type": "markdown",
   "metadata": {},
   "source": [
    "### **Table Operations**"
   ]
  },
  {
   "cell_type": "markdown",
   "metadata": {},
   "source": [
    "#### t.select\n",
    "t.select(*column_or_columns*)\n",
    "\n",
    "The select function from the datascience package allows you to select specific rows in a table. You can specify either one column or multiple using the column names (in string format) or the index of the column (with an int).\n",
    "\n",
    "'.select()' can *only* be used on a table, and it returns a *new* table with the specified columns"
   ]
  },
  {
   "cell_type": "code",
   "execution_count": 14,
   "metadata": {},
   "outputs": [
    {
     "data": {
      "text/html": [
       "<table border=\"1\" class=\"dataframe\">\n",
       "    <thead>\n",
       "        <tr>\n",
       "            <th>Course Assistants</th>\n",
       "        </tr>\n",
       "    </thead>\n",
       "    <tbody>\n",
       "        <tr>\n",
       "            <td>Ethan Chang      </td>\n",
       "        </tr>\n",
       "        <tr>\n",
       "            <td>?                </td>\n",
       "        </tr>\n",
       "        <tr>\n",
       "            <td>?                </td>\n",
       "        </tr>\n",
       "        <tr>\n",
       "            <td>?                </td>\n",
       "        </tr>\n",
       "    </tbody>\n",
       "</table>"
      ],
      "text/plain": [
       "<IPython.core.display.HTML object>"
      ]
     },
     "metadata": {},
     "output_type": "display_data"
    },
    {
     "data": {
      "text/html": [
       "<table border=\"1\" class=\"dataframe\">\n",
       "    <thead>\n",
       "        <tr>\n",
       "            <th>Label</th> <th>Major</th>\n",
       "        </tr>\n",
       "    </thead>\n",
       "    <tbody>\n",
       "        <tr>\n",
       "            <td>Row 1</td> <td>Data Science</td>\n",
       "        </tr>\n",
       "        <tr>\n",
       "            <td>Row 2</td> <td>N/A         </td>\n",
       "        </tr>\n",
       "        <tr>\n",
       "            <td>Row 3</td> <td>N/A         </td>\n",
       "        </tr>\n",
       "        <tr>\n",
       "            <td>Row 4</td> <td>N/A         </td>\n",
       "        </tr>\n",
       "    </tbody>\n",
       "</table>"
      ],
      "text/plain": [
       "<IPython.core.display.HTML object>"
      ]
     },
     "metadata": {},
     "output_type": "display_data"
    },
    {
     "data": {
      "text/html": [
       "<table border=\"1\" class=\"dataframe\">\n",
       "    <thead>\n",
       "        <tr>\n",
       "            <th>Label</th>\n",
       "        </tr>\n",
       "    </thead>\n",
       "    <tbody>\n",
       "        <tr>\n",
       "            <td>Row 1</td>\n",
       "        </tr>\n",
       "        <tr>\n",
       "            <td>Row 2</td>\n",
       "        </tr>\n",
       "        <tr>\n",
       "            <td>Row 3</td>\n",
       "        </tr>\n",
       "        <tr>\n",
       "            <td>Row 4</td>\n",
       "        </tr>\n",
       "    </tbody>\n",
       "</table>"
      ],
      "text/plain": [
       "<IPython.core.display.HTML object>"
      ]
     },
     "metadata": {},
     "output_type": "display_data"
    }
   ],
   "source": [
    "# single column selected\n",
    "ca_select = ca_table.select('Course Assistants')\n",
    "ca_select.show()\n",
    "\n",
    "# two columns selected, the first instance of ca_select is being overwritten\n",
    "ca_select = ca_table.select('Label', 'Major')\n",
    "ca_select.show()\n",
    "\n",
    "# selecting columns from the previous table (you should not need to do this)\n",
    "ca_select = ca_select.select('Label')\n",
    "ca_select.show()"
   ]
  },
  {
   "cell_type": "markdown",
   "metadata": {},
   "source": [
    "#### t.drop\n",
    "t.drop(*column_or_columns*)\n",
    "\n",
    "As the name suggests, 'drop' will *remove* or drop the column(s). You can use either the column name or index to specify which columns you want to remove. Additionally, 'drop' will return a *new* table.\n",
    "\n",
    "*Instead of selecting multiple columns just to exclude one, simply drop the column instead.*"
   ]
  },
  {
   "cell_type": "code",
   "execution_count": 15,
   "metadata": {},
   "outputs": [
    {
     "data": {
      "text/html": [
       "<table border=\"1\" class=\"dataframe\">\n",
       "    <thead>\n",
       "        <tr>\n",
       "            <th>Label</th> <th>Course Assistants</th> <th>Major</th>\n",
       "        </tr>\n",
       "    </thead>\n",
       "    <tbody>\n",
       "        <tr>\n",
       "            <td>Row 1</td> <td>Ethan Chang      </td> <td>Data Science</td>\n",
       "        </tr>\n",
       "        <tr>\n",
       "            <td>Row 2</td> <td>?                </td> <td>N/A         </td>\n",
       "        </tr>\n",
       "        <tr>\n",
       "            <td>Row 3</td> <td>?                </td> <td>N/A         </td>\n",
       "        </tr>\n",
       "        <tr>\n",
       "            <td>Row 4</td> <td>?                </td> <td>N/A         </td>\n",
       "        </tr>\n",
       "    </tbody>\n",
       "</table>"
      ],
      "text/plain": [
       "<IPython.core.display.HTML object>"
      ]
     },
     "metadata": {},
     "output_type": "display_data"
    },
    {
     "data": {
      "text/html": [
       "<table border=\"1\" class=\"dataframe\">\n",
       "    <thead>\n",
       "        <tr>\n",
       "            <th>Course Assistants</th> <th>Major</th>\n",
       "        </tr>\n",
       "    </thead>\n",
       "    <tbody>\n",
       "        <tr>\n",
       "            <td>Ethan Chang      </td> <td>Data Science</td>\n",
       "        </tr>\n",
       "        <tr>\n",
       "            <td>?                </td> <td>N/A         </td>\n",
       "        </tr>\n",
       "        <tr>\n",
       "            <td>?                </td> <td>N/A         </td>\n",
       "        </tr>\n",
       "        <tr>\n",
       "            <td>?                </td> <td>N/A         </td>\n",
       "        </tr>\n",
       "    </tbody>\n",
       "</table>"
      ],
      "text/plain": [
       "<IPython.core.display.HTML object>"
      ]
     },
     "metadata": {},
     "output_type": "display_data"
    },
    {
     "data": {
      "text/html": [
       "<table border=\"1\" class=\"dataframe\">\n",
       "    <thead>\n",
       "        <tr>\n",
       "            <th>Course Assistants</th> <th>Major</th>\n",
       "        </tr>\n",
       "    </thead>\n",
       "    <tbody>\n",
       "        <tr>\n",
       "            <td>Ethan Chang      </td> <td>Data Science</td>\n",
       "        </tr>\n",
       "        <tr>\n",
       "            <td>?                </td> <td>N/A         </td>\n",
       "        </tr>\n",
       "        <tr>\n",
       "            <td>?                </td> <td>N/A         </td>\n",
       "        </tr>\n",
       "        <tr>\n",
       "            <td>?                </td> <td>N/A         </td>\n",
       "        </tr>\n",
       "    </tbody>\n",
       "</table>"
      ],
      "text/plain": [
       "<IPython.core.display.HTML object>"
      ]
     },
     "metadata": {},
     "output_type": "display_data"
    }
   ],
   "source": [
    "ca_copy = ca_table.copy()\n",
    "ca_copy.show()\n",
    "\n",
    "ca_drop = ca_copy.drop('Label')\n",
    "ca_drop.show()\n",
    "\n",
    "# try to not do this, it gets difficult if your columns have long names\n",
    "ca_copy.select('Course Assistants', 'Major').show()"
   ]
  },
  {
   "cell_type": "markdown",
   "metadata": {},
   "source": [
    "#### t.sort\n",
    "t.sort(*column_or_label, descending=False, distinct=False*)\n",
    "\n",
    "'sort' will return a *new* table with the rows sorted according to the values in a column. Unless specified, 'sort' will always sort in ascending order, while also keeping non-unique values. Setting 'descending' to true will sort in descending order, and setting 'distinct' to true will remove non-unique values."
   ]
  },
  {
   "cell_type": "code",
   "execution_count": 16,
   "metadata": {},
   "outputs": [
    {
     "data": {
      "text/html": [
       "<table border=\"1\" class=\"dataframe\">\n",
       "    <thead>\n",
       "        <tr>\n",
       "            <th>Label</th> <th>Course Assistants</th> <th>Major</th>\n",
       "        </tr>\n",
       "    </thead>\n",
       "    <tbody>\n",
       "        <tr>\n",
       "            <td>Row 4</td> <td>?                </td> <td>N/A         </td>\n",
       "        </tr>\n",
       "        <tr>\n",
       "            <td>Row 3</td> <td>?                </td> <td>N/A         </td>\n",
       "        </tr>\n",
       "        <tr>\n",
       "            <td>Row 2</td> <td>?                </td> <td>N/A         </td>\n",
       "        </tr>\n",
       "        <tr>\n",
       "            <td>Row 1</td> <td>Ethan Chang      </td> <td>Data Science</td>\n",
       "        </tr>\n",
       "    </tbody>\n",
       "</table>"
      ],
      "text/plain": [
       "<IPython.core.display.HTML object>"
      ]
     },
     "metadata": {},
     "output_type": "display_data"
    },
    {
     "data": {
      "text/html": [
       "<table border=\"1\" class=\"dataframe\">\n",
       "    <thead>\n",
       "        <tr>\n",
       "            <th>Label</th> <th>Course Assistants</th> <th>Major</th>\n",
       "        </tr>\n",
       "    </thead>\n",
       "    <tbody>\n",
       "        <tr>\n",
       "            <td>Row 2</td> <td>?                </td> <td>N/A         </td>\n",
       "        </tr>\n",
       "        <tr>\n",
       "            <td>Row 1</td> <td>Ethan Chang      </td> <td>Data Science</td>\n",
       "        </tr>\n",
       "    </tbody>\n",
       "</table>"
      ],
      "text/plain": [
       "<IPython.core.display.HTML object>"
      ]
     },
     "metadata": {},
     "output_type": "display_data"
    }
   ],
   "source": [
    "ca_sort = ca_table.copy()\n",
    "\n",
    "# sorting in descending order, see how the Row # starts with 4 then goes to 1\n",
    "ca_sort.sort('Label', descending=True).show()\n",
    "\n",
    "# sorting while removing non-unique values, all but one row with '?' is gone\n",
    "ca_sort.sort('Course Assistants', distinct=True).show()"
   ]
  },
  {
   "cell_type": "markdown",
   "metadata": {},
   "source": [
    "#### t.where (Lec #3)\n",
    "\n",
    "t.where(*column_or_label, value_or_predicate=None, other=None*)\n",
    "\n",
    "'where' takes in up to three arguments: \n",
    "1. The column or label of the column you want to filter by, this can be a string or int (for the index of the column)\n",
    "2. Value or predicate that you want to filter by\n",
    "    - If you want to filter by a specific value, you can use a string, int, or float\n",
    "    - If you want to filter by a predicate, you can use a function that returns a boolean value\n",
    "3. Optional label for pairwise comparisons\n",
    "\n",
    "There are a variety of predicates that can be used, [here](http://data8.org/datascience/predicates.html?highlight=#datascience.predicates.are) is a list of all of them with examples."
   ]
  },
  {
   "cell_type": "code",
   "execution_count": 17,
   "metadata": {},
   "outputs": [
    {
     "name": "stdout",
     "output_type": "stream",
     "text": [
      "Base Table\n"
     ]
    },
    {
     "data": {
      "text/html": [
       "<table border=\"1\" class=\"dataframe\">\n",
       "    <thead>\n",
       "        <tr>\n",
       "            <th>Label</th> <th>Course Assistants</th> <th>Major</th> <th>Extra</th>\n",
       "        </tr>\n",
       "    </thead>\n",
       "    <tbody>\n",
       "        <tr>\n",
       "            <td>Row 1</td> <td>Ethan Chang      </td> <td>Data Science</td> <td>?    </td>\n",
       "        </tr>\n",
       "        <tr>\n",
       "            <td>Row 2</td> <td>?                </td> <td>N/A         </td> <td>?    </td>\n",
       "        </tr>\n",
       "        <tr>\n",
       "            <td>Row 3</td> <td>?                </td> <td>N/A         </td> <td>?    </td>\n",
       "        </tr>\n",
       "        <tr>\n",
       "            <td>Row 4</td> <td>?                </td> <td>N/A         </td> <td>?    </td>\n",
       "        </tr>\n",
       "    </tbody>\n",
       "</table>"
      ],
      "text/plain": [
       "<IPython.core.display.HTML object>"
      ]
     },
     "metadata": {},
     "output_type": "display_data"
    },
    {
     "name": "stdout",
     "output_type": "stream",
     "text": [
      "\n",
      " Table #1\n"
     ]
    },
    {
     "data": {
      "text/html": [
       "<table border=\"1\" class=\"dataframe\">\n",
       "    <thead>\n",
       "        <tr>\n",
       "            <th>Label</th> <th>Course Assistants</th> <th>Major</th> <th>Extra</th>\n",
       "        </tr>\n",
       "    </thead>\n",
       "    <tbody>\n",
       "        <tr>\n",
       "            <td>Row 1</td> <td>Ethan Chang      </td> <td>Data Science</td> <td>?    </td>\n",
       "        </tr>\n",
       "    </tbody>\n",
       "</table>"
      ],
      "text/plain": [
       "<IPython.core.display.HTML object>"
      ]
     },
     "metadata": {},
     "output_type": "display_data"
    },
    {
     "name": "stdout",
     "output_type": "stream",
     "text": [
      "\n",
      " Table #2\n"
     ]
    },
    {
     "data": {
      "text/html": [
       "<table border=\"1\" class=\"dataframe\">\n",
       "    <thead>\n",
       "        <tr>\n",
       "            <th>Label</th> <th>Course Assistants</th> <th>Major</th> <th>Extra</th>\n",
       "        </tr>\n",
       "    </thead>\n",
       "    <tbody>\n",
       "        <tr>\n",
       "            <td>Row 2</td> <td>?                </td> <td>N/A  </td> <td>?    </td>\n",
       "        </tr>\n",
       "        <tr>\n",
       "            <td>Row 3</td> <td>?                </td> <td>N/A  </td> <td>?    </td>\n",
       "        </tr>\n",
       "        <tr>\n",
       "            <td>Row 4</td> <td>?                </td> <td>N/A  </td> <td>?    </td>\n",
       "        </tr>\n",
       "    </tbody>\n",
       "</table>"
      ],
      "text/plain": [
       "<IPython.core.display.HTML object>"
      ]
     },
     "metadata": {},
     "output_type": "display_data"
    },
    {
     "name": "stdout",
     "output_type": "stream",
     "text": [
      "\n",
      " Table #3\n"
     ]
    },
    {
     "data": {
      "text/html": [
       "<table border=\"1\" class=\"dataframe\">\n",
       "    <thead>\n",
       "        <tr>\n",
       "            <th>Label</th> <th>Course Assistants</th> <th>Major</th> <th>Extra</th>\n",
       "        </tr>\n",
       "    </thead>\n",
       "    <tbody>\n",
       "        <tr>\n",
       "            <td>Row 1</td> <td>Ethan Chang      </td> <td>Data Science</td> <td>?    </td>\n",
       "        </tr>\n",
       "        <tr>\n",
       "            <td>Row 2</td> <td>?                </td> <td>N/A         </td> <td>?    </td>\n",
       "        </tr>\n",
       "        <tr>\n",
       "            <td>Row 3</td> <td>?                </td> <td>N/A         </td> <td>?    </td>\n",
       "        </tr>\n",
       "        <tr>\n",
       "            <td>Row 4</td> <td>?                </td> <td>N/A         </td> <td>?    </td>\n",
       "        </tr>\n",
       "    </tbody>\n",
       "</table>"
      ],
      "text/plain": [
       "<IPython.core.display.HTML object>"
      ]
     },
     "metadata": {},
     "output_type": "display_data"
    }
   ],
   "source": [
    "ca_where = ca_table.with_columns(\n",
    "    'Extra', ['?'] * 4\n",
    ")\n",
    "print('Base Table')\n",
    "ca_where.show()\n",
    "\n",
    "\n",
    "# shows rows in the table where there is a '?' in the 'Course Assistants' column\n",
    "# where(column, value) is what is being used\n",
    "print('\\n', 'Table #1')\n",
    "ca_where.where('Course Assistants', 'Ethan Chang').show()\n",
    "\n",
    "\n",
    "# shows rows in the table where values in 'Course Assistants' are equal to 'Extra'\n",
    "# where(column, predicate, column) is being used, are.equal_to is a predicate\n",
    "print('\\n', 'Table #2')\n",
    "ca_where.where('Course Assistants', are.equal_to, 'Extra').show()\n",
    "\n",
    "\n",
    "# shows rows in the table where values in 'Extra' are equal to '?' (which is all values)\n",
    "# where(column, predicate) is being used here\n",
    "# this is similar to the first example with 'Ethan Chang', but this one uses are.equal_to()\n",
    "print('\\n', 'Table #3')\n",
    "ca_where.where('Extra', are.equal_to('?')).show()"
   ]
  },
  {
   "cell_type": "markdown",
   "metadata": {},
   "source": [
    "---"
   ]
  },
  {
   "cell_type": "markdown",
   "metadata": {},
   "source": [
    "## **Understanding Documentation** <a id='documentation'></a>\n",
    "\n",
    "Links to documentation for Python and the packages used or referenced in this course:\n",
    "- [Python](https://docs.python.org/)\n",
    "- [datascience](http://data8.org/datascience/)\n",
    "- [NumPy](https://docs.scipy.org/doc/numpy/reference/)\n",
    "\n",
    "Documentation's official definition is \"material that provides official information or evidence or that serves as a record\". For programming, documentation is a way for the creators of langauges and packages to provide information about their code. Additionally, when writing your own programs, you can add in documentaton to help others understand your code. \n",
    "\n",
    "The image below is a screenshot of the documentation for the 'Table.where()' function from the datascience package. It shows the function's name, parameters, and a description of what the function does. Furthermore, it also provides the restraints for the parameters, and the possible return values."
   ]
  },
  {
   "cell_type": "markdown",
   "metadata": {},
   "source": [
    "<img src=\"images/ds_where.png\"><br>\n",
    "<sup>Image taken from [the datascience documentation webpage](http://data8.org/datascience/_autosummary/datascience.tables.Table.where.html?)</sup><br>\n",
    "\n",
    "\n",
    "For some packages, the documentation will also list examples of the function being used. This is a great way to learn how to use a function, and it is also a good way to see how the function works. Below are the examples for the 'Table.where()' function.\n",
    "\n",
    "<img src=\"images/ds_where-examples.png\"><br>\n",
    "<sup>Image taken from [the datascience documentation webpage](http://data8.org/datascience/_autosummary/datascience.tables.Table.where.html?)</sup>\n"
   ]
  },
  {
   "cell_type": "markdown",
   "metadata": {},
   "source": [
    "---"
   ]
  },
  {
   "cell_type": "markdown",
   "metadata": {},
   "source": [
    "## **GitHub** <a id='github'></a>\n",
    "\n",
    "GitHub is a website where people can store the code they wrote for specific projects. It also allows developers to collaborate together and identify bugs/issues. This guide is on GitHub, and if there is an problem with the guide or suggestion you have, you can create a new issue on GitHub to let the contributors know. \n",
    "\n",
    "If you are considering going into a field with software development intertwined into it in any form, understanding how to use Git and GitHub is essential."
   ]
  }
 ],
 "metadata": {
  "kernelspec": {
   "display_name": "Python 3.10.1 64-bit",
   "language": "python",
   "name": "python3"
  },
  "language_info": {
   "codemirror_mode": {
    "name": "ipython",
    "version": 3
   },
   "file_extension": ".py",
   "mimetype": "text/x-python",
   "name": "python",
   "nbconvert_exporter": "python",
   "pygments_lexer": "ipython3",
   "version": "3.10.7"
  },
  "orig_nbformat": 4,
  "vscode": {
   "interpreter": {
    "hash": "3a8d20506be82a4461f9b41041c14fdfe08e8897388d050f9d1ea4a80103d22a"
   }
  }
 },
 "nbformat": 4,
 "nbformat_minor": 2
}

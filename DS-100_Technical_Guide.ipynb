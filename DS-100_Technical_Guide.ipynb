{
 "cells": [
  {
   "cell_type": "markdown",
   "metadata": {},
   "source": [
    "# **The DS-100 Guide**\n"
   ]
  },
  {
   "cell_type": "markdown",
   "metadata": {},
   "source": [
    "## Table of Contents\n",
    "- [The Shared Computer Cluster (SCC)](#scc)\n",
    "- [Vanilla Python](#python)\n",
    "- [Packages](#packages)\n",
    "    - [NumPy](#numpy)\n",
    "    - [datascience](#datascience)\n",
    "- [GitHub](#github)"
   ]
  },
  {
   "cell_type": "markdown",
   "metadata": {},
   "source": [
    "---\n",
    "## **The Shared Computing Cluster (SCC)** <a id='scc'></a>\n",
    "\n",
    "The SCC is what all students in DS-100 will be using to run the files required for their assignments. It is a diverse Linux cluster of numerous components including over 9,000 shared CPU cores, 250 GPU cores and 1 petabyte of storage. The SCC is mainly used for tasks that require high-performance computing from disciplines such as engineering, biostatistics, and machine learning. \n"
   ]
  },
  {
   "cell_type": "markdown",
   "metadata": {},
   "source": [
    "### **Accessing the SCC**\n",
    "\n",
    "1. Ensure that you are not on Boston University’s “BU (802.1x)” wifi network\n",
    "2. Go to [the SCC site](https://scc-ondemand.bu.edu)\n",
    "3. Login to the SCC with you kerberos username and password (the account you use for the student link)\n",
    "4. Optional: Save/bookmark this page as you will be accessing it often\n"
   ]
  },
  {
   "cell_type": "markdown",
   "metadata": {},
   "source": [
    "---\n",
    "## **Python** <a id='python'></a>"
   ]
  },
  {
   "cell_type": "markdown",
   "metadata": {},
   "source": [
    "\n",
    "### **Data Types**"
   ]
  },
  {
   "cell_type": "markdown",
   "metadata": {},
   "source": [
    "#### Int (integer) (Lec #4)\n",
    "\n",
    "Ints in Python can be an integer of any size. Additionally, it never has a decimal point."
   ]
  },
  {
   "cell_type": "code",
   "execution_count": 13,
   "metadata": {},
   "outputs": [],
   "source": [
    "x_int = 1234"
   ]
  },
  {
   "cell_type": "markdown",
   "metadata": {},
   "source": [
    "#### Float (int w/ decimal point) (Lec #4)\n",
    "\n",
    "Floats always have a decimal point, but they have an optional fractional part. They also have a limited size and precision of 15-16 decimal places. Floats **can be wrong** in the final few decimal places after arithmetic (due to how they are stored in memory, see __[here](https://stackoverflow.com/questions/21895756/why-are-floating-point-numbers-inaccurate)__)."
   ]
  },
  {
   "cell_type": "code",
   "execution_count": 14,
   "metadata": {},
   "outputs": [],
   "source": [
    "x_float = 12.34"
   ]
  },
  {
   "cell_type": "markdown",
   "metadata": {},
   "source": [
    "#### Str (Strings & text) (Lec #4)"
   ]
  },
  {
   "cell_type": "markdown",
   "metadata": {},
   "source": [
    "#### Arrays/Lists "
   ]
  },
  {
   "cell_type": "markdown",
   "metadata": {},
   "source": [
    "\n",
    "### **Assignment Statements** (Lec #3)\n",
    "\n",
    "Assignment statements, denoted by a *single* =, are a type of statement that binds a variable to a value. Additionally, variable names are *case-sensitive* (i.e. 'A' is not equal to 'a')."
   ]
  },
  {
   "cell_type": "code",
   "execution_count": 15,
   "metadata": {},
   "outputs": [
    {
     "name": "stdout",
     "output_type": "stream",
     "text": [
      "<class 'str'>\n",
      "<class 'list'>\n",
      "False\n"
     ]
    }
   ],
   "source": [
    "hw_due_date = 'On Thursday'\n",
    "print(type(hw_due_date))\n",
    "\n",
    "# The value and type can be overwritten\n",
    "\n",
    "hw_due_date = ['On Thursday']\n",
    "print(type(hw_due_date))\n",
    "\n",
    "a = 0\n",
    "A = 1\n",
    "print(a == A)"
   ]
  },
  {
   "cell_type": "markdown",
   "metadata": {},
   "source": [
    "\n",
    "### **Using Functions** (Lec #3)\n",
    "\n",
    "A function is a block of code that will run whenever it is called. The variable listed inside of the parentheses are paramters, while the actual value that is sent to the function are arguments. Additionally, some functions can take *multiple* arguments (i.e. np.array(), max(), min(), etc)."
   ]
  },
  {
   "cell_type": "code",
   "execution_count": 16,
   "metadata": {},
   "outputs": [
    {
     "name": "stdout",
     "output_type": "stream",
     "text": [
      "<class 'int'> <class 'float'>\n"
     ]
    }
   ],
   "source": [
    "# From Lec #4\n",
    "# type() is a function, while x_int and x_float are parameters in this case\n",
    "# print() is also a function, and it can take more than one argument\n",
    "\n",
    "print(type(x_int), type(x_float))"
   ]
  },
  {
   "cell_type": "markdown",
   "metadata": {},
   "source": [
    "It is also possible to daisy-chain functions together. In the example below, lower() makes all the letters into lower case, while replace() replaces *all* instances of 'han' with 'c'.\n"
   ]
  },
  {
   "cell_type": "code",
   "execution_count": 17,
   "metadata": {},
   "outputs": [
    {
     "name": "stdout",
     "output_type": "stream",
     "text": [
      "Ethan Chang\n",
      "etc ccg\n"
     ]
    }
   ],
   "source": [
    "name = 'Ethan Chang'\n",
    "weird_name = name.lower().replace('han', 'c')\n",
    "print(name)\n",
    "print(weird_name)"
   ]
  },
  {
   "cell_type": "markdown",
   "metadata": {},
   "source": [
    "\n",
    "### **Conversions** (Lec #4)"
   ]
  },
  {
   "cell_type": "markdown",
   "metadata": {},
   "source": [
    "---\n",
    "## **Importing packages** <a id='packages'></a>"
   ]
  },
  {
   "cell_type": "code",
   "execution_count": 18,
   "metadata": {},
   "outputs": [],
   "source": [
    "import numpy as np\n",
    "from datascience import *"
   ]
  },
  {
   "cell_type": "markdown",
   "metadata": {},
   "source": [
    "\n",
    "## **Package: NumPy** <a id='numpy'></a>"
   ]
  },
  {
   "cell_type": "markdown",
   "metadata": {},
   "source": [
    "### **NumPy Functions**"
   ]
  },
  {
   "cell_type": "markdown",
   "metadata": {},
   "source": [
    "#### np.array"
   ]
  },
  {
   "cell_type": "markdown",
   "metadata": {},
   "source": [
    "#### np.arange"
   ]
  },
  {
   "cell_type": "markdown",
   "metadata": {},
   "source": [
    "#### np.diff"
   ]
  },
  {
   "cell_type": "markdown",
   "metadata": {},
   "source": [
    "\n",
    "## **Package: datascience** <a id='datascience'></a>"
   ]
  },
  {
   "cell_type": "markdown",
   "metadata": {},
   "source": [
    "### **Creating a table**\n"
   ]
  },
  {
   "cell_type": "code",
   "execution_count": 19,
   "metadata": {},
   "outputs": [
    {
     "data": {
      "text/html": [
       "<table border=\"1\" class=\"dataframe\">\n",
       "    <thead>\n",
       "        <tr>\n",
       "            <th>Label</th> <th>Course Assistants</th> <th>Major</th>\n",
       "        </tr>\n",
       "    </thead>\n",
       "    <tbody>\n",
       "        <tr>\n",
       "            <td>Row 1</td> <td>Ethan Chang      </td> <td>Data Science</td>\n",
       "        </tr>\n",
       "        <tr>\n",
       "            <td>Row 2</td> <td>?                </td> <td>N/A         </td>\n",
       "        </tr>\n",
       "        <tr>\n",
       "            <td>Row 3</td> <td>?                </td> <td>N/A         </td>\n",
       "        </tr>\n",
       "        <tr>\n",
       "            <td>Row 4</td> <td>?                </td> <td>N/A         </td>\n",
       "        </tr>\n",
       "    </tbody>\n",
       "</table>"
      ],
      "text/plain": [
       "Label | Course Assistants | Major\n",
       "Row 1 | Ethan Chang       | Data Science\n",
       "Row 2 | ?                 | N/A\n",
       "Row 3 | ?                 | N/A\n",
       "Row 4 | ?                 | N/A"
      ]
     },
     "execution_count": 19,
     "metadata": {},
     "output_type": "execute_result"
    }
   ],
   "source": [
    "ca_table = Table().with_columns(\n",
    "    'Label', ['Row 1', 'Row 2', 'Row 3', 'Row 4'],\n",
    "    'Course Assistants', ['Ethan Chang', '?', '?', '?'],\n",
    "    'Major', ['Data Science', 'N/A', 'N/A', 'N/A']\n",
    ")\n",
    "\n",
    "ca_table"
   ]
  },
  {
   "cell_type": "markdown",
   "metadata": {},
   "source": [
    "### **Table Structure** (Lec #3)\n",
    "\n",
    "If you run the code cell below, you will see a table with 4 rows and 3 columns. The name of a column (also known as a label) will always be at the top, and the entries for the table will be below it. "
   ]
  },
  {
   "cell_type": "code",
   "execution_count": 20,
   "metadata": {},
   "outputs": [
    {
     "data": {
      "text/html": [
       "<table border=\"1\" class=\"dataframe\">\n",
       "    <thead>\n",
       "        <tr>\n",
       "            <th>Label</th> <th>Course Assistants</th> <th>Major</th>\n",
       "        </tr>\n",
       "    </thead>\n",
       "    <tbody>\n",
       "        <tr>\n",
       "            <td>Row 1</td> <td>Ethan Chang      </td> <td>Data Science</td>\n",
       "        </tr>\n",
       "        <tr>\n",
       "            <td>Row 2</td> <td>?                </td> <td>N/A         </td>\n",
       "        </tr>\n",
       "        <tr>\n",
       "            <td>Row 3</td> <td>?                </td> <td>N/A         </td>\n",
       "        </tr>\n",
       "        <tr>\n",
       "            <td>Row 4</td> <td>?                </td> <td>N/A         </td>\n",
       "        </tr>\n",
       "    </tbody>\n",
       "</table>"
      ],
      "text/plain": [
       "Label | Course Assistants | Major\n",
       "Row 1 | Ethan Chang       | Data Science\n",
       "Row 2 | ?                 | N/A\n",
       "Row 3 | ?                 | N/A\n",
       "Row 4 | ?                 | N/A"
      ]
     },
     "execution_count": 20,
     "metadata": {},
     "output_type": "execute_result"
    }
   ],
   "source": [
    "ca_table"
   ]
  },
  {
   "cell_type": "markdown",
   "metadata": {},
   "source": [
    "### **Table Operations**"
   ]
  },
  {
   "cell_type": "markdown",
   "metadata": {},
   "source": [
    "#### t.select(*column_or_columns*) (Lec #3)\n",
    "The select function from the datascience package allows you to select specific rows in a table. You can specify either one column or multiple using the column names (in string format) or the index of the column (with an int).\n",
    "\n",
    "'.select()' can *only* be used on a table, and it returns a *new* table with the specified columns"
   ]
  },
  {
   "cell_type": "code",
   "execution_count": 21,
   "metadata": {},
   "outputs": [
    {
     "data": {
      "text/html": [
       "<table border=\"1\" class=\"dataframe\">\n",
       "    <thead>\n",
       "        <tr>\n",
       "            <th>Course Assistants</th>\n",
       "        </tr>\n",
       "    </thead>\n",
       "    <tbody>\n",
       "        <tr>\n",
       "            <td>Ethan Chang      </td>\n",
       "        </tr>\n",
       "        <tr>\n",
       "            <td>?                </td>\n",
       "        </tr>\n",
       "        <tr>\n",
       "            <td>?                </td>\n",
       "        </tr>\n",
       "        <tr>\n",
       "            <td>?                </td>\n",
       "        </tr>\n",
       "    </tbody>\n",
       "</table>"
      ],
      "text/plain": [
       "<IPython.core.display.HTML object>"
      ]
     },
     "metadata": {},
     "output_type": "display_data"
    },
    {
     "data": {
      "text/html": [
       "<table border=\"1\" class=\"dataframe\">\n",
       "    <thead>\n",
       "        <tr>\n",
       "            <th>Label</th> <th>Major</th>\n",
       "        </tr>\n",
       "    </thead>\n",
       "    <tbody>\n",
       "        <tr>\n",
       "            <td>Row 1</td> <td>Data Science</td>\n",
       "        </tr>\n",
       "        <tr>\n",
       "            <td>Row 2</td> <td>N/A         </td>\n",
       "        </tr>\n",
       "        <tr>\n",
       "            <td>Row 3</td> <td>N/A         </td>\n",
       "        </tr>\n",
       "        <tr>\n",
       "            <td>Row 4</td> <td>N/A         </td>\n",
       "        </tr>\n",
       "    </tbody>\n",
       "</table>"
      ],
      "text/plain": [
       "<IPython.core.display.HTML object>"
      ]
     },
     "metadata": {},
     "output_type": "display_data"
    },
    {
     "data": {
      "text/html": [
       "<table border=\"1\" class=\"dataframe\">\n",
       "    <thead>\n",
       "        <tr>\n",
       "            <th>Label</th>\n",
       "        </tr>\n",
       "    </thead>\n",
       "    <tbody>\n",
       "        <tr>\n",
       "            <td>Row 1</td>\n",
       "        </tr>\n",
       "        <tr>\n",
       "            <td>Row 2</td>\n",
       "        </tr>\n",
       "        <tr>\n",
       "            <td>Row 3</td>\n",
       "        </tr>\n",
       "        <tr>\n",
       "            <td>Row 4</td>\n",
       "        </tr>\n",
       "    </tbody>\n",
       "</table>"
      ],
      "text/plain": [
       "<IPython.core.display.HTML object>"
      ]
     },
     "metadata": {},
     "output_type": "display_data"
    }
   ],
   "source": [
    "# single column selected\n",
    "ca_select = ca_table.select('Course Assistants')\n",
    "ca_select.show()\n",
    "\n",
    "# two columns selected, the first instance of ca_select is being overwritten\n",
    "ca_select = ca_table.select('Label', 'Major')\n",
    "ca_select.show()\n",
    "\n",
    "# selecting columns from the previous table (you should not need to do this)\n",
    "ca_select = ca_select.select('Label')\n",
    "ca_select.show()"
   ]
  },
  {
   "cell_type": "markdown",
   "metadata": {},
   "source": [
    "#### t.drop(*column_or_columns*) (Lec #3)\n",
    "\n",
    "As the name suggests, 'drop' will *remove* or drop the column(s). You can use either the column name or index to specify which columns you want to remove. Additionally, 'drop' will return a *new* table.\n",
    "\n",
    "*Instead of selecting multiple columns just to exclude one, simply drop the column instead.*"
   ]
  },
  {
   "cell_type": "code",
   "execution_count": 22,
   "metadata": {},
   "outputs": [
    {
     "data": {
      "text/html": [
       "<table border=\"1\" class=\"dataframe\">\n",
       "    <thead>\n",
       "        <tr>\n",
       "            <th>Label</th> <th>Course Assistants</th> <th>Major</th>\n",
       "        </tr>\n",
       "    </thead>\n",
       "    <tbody>\n",
       "        <tr>\n",
       "            <td>Row 1</td> <td>Ethan Chang      </td> <td>Data Science</td>\n",
       "        </tr>\n",
       "        <tr>\n",
       "            <td>Row 2</td> <td>?                </td> <td>N/A         </td>\n",
       "        </tr>\n",
       "        <tr>\n",
       "            <td>Row 3</td> <td>?                </td> <td>N/A         </td>\n",
       "        </tr>\n",
       "        <tr>\n",
       "            <td>Row 4</td> <td>?                </td> <td>N/A         </td>\n",
       "        </tr>\n",
       "    </tbody>\n",
       "</table>"
      ],
      "text/plain": [
       "<IPython.core.display.HTML object>"
      ]
     },
     "metadata": {},
     "output_type": "display_data"
    },
    {
     "data": {
      "text/html": [
       "<table border=\"1\" class=\"dataframe\">\n",
       "    <thead>\n",
       "        <tr>\n",
       "            <th>Course Assistants</th> <th>Major</th>\n",
       "        </tr>\n",
       "    </thead>\n",
       "    <tbody>\n",
       "        <tr>\n",
       "            <td>Ethan Chang      </td> <td>Data Science</td>\n",
       "        </tr>\n",
       "        <tr>\n",
       "            <td>?                </td> <td>N/A         </td>\n",
       "        </tr>\n",
       "        <tr>\n",
       "            <td>?                </td> <td>N/A         </td>\n",
       "        </tr>\n",
       "        <tr>\n",
       "            <td>?                </td> <td>N/A         </td>\n",
       "        </tr>\n",
       "    </tbody>\n",
       "</table>"
      ],
      "text/plain": [
       "<IPython.core.display.HTML object>"
      ]
     },
     "metadata": {},
     "output_type": "display_data"
    },
    {
     "data": {
      "text/html": [
       "<table border=\"1\" class=\"dataframe\">\n",
       "    <thead>\n",
       "        <tr>\n",
       "            <th>Course Assistants</th> <th>Major</th>\n",
       "        </tr>\n",
       "    </thead>\n",
       "    <tbody>\n",
       "        <tr>\n",
       "            <td>Ethan Chang      </td> <td>Data Science</td>\n",
       "        </tr>\n",
       "        <tr>\n",
       "            <td>?                </td> <td>N/A         </td>\n",
       "        </tr>\n",
       "        <tr>\n",
       "            <td>?                </td> <td>N/A         </td>\n",
       "        </tr>\n",
       "        <tr>\n",
       "            <td>?                </td> <td>N/A         </td>\n",
       "        </tr>\n",
       "    </tbody>\n",
       "</table>"
      ],
      "text/plain": [
       "<IPython.core.display.HTML object>"
      ]
     },
     "metadata": {},
     "output_type": "display_data"
    }
   ],
   "source": [
    "ca_copy = ca_table.copy()\n",
    "ca_copy.show()\n",
    "\n",
    "ca_drop = ca_copy.drop('Label')\n",
    "ca_drop.show()\n",
    "\n",
    "# try to not do this, it gets difficult if your columns have long names\n",
    "ca_copy.select('Course Assistants', 'Major').show()"
   ]
  },
  {
   "cell_type": "markdown",
   "metadata": {},
   "source": [
    "#### t.sort(*column_or_label, descending=False, distinct=False*) (Lec #3)\n",
    "\n",
    "'sort' will return a *new* table with the rows sorted according to the values in a column. Unless specified, 'sort' will always sort in ascending order, while also keeping non-unique values. Setting 'descending' to true will sort in descending order, and setting 'distinct' to true will remove non-unique values."
   ]
  },
  {
   "cell_type": "code",
   "execution_count": 23,
   "metadata": {},
   "outputs": [
    {
     "data": {
      "text/html": [
       "<table border=\"1\" class=\"dataframe\">\n",
       "    <thead>\n",
       "        <tr>\n",
       "            <th>Label</th> <th>Course Assistants</th> <th>Major</th>\n",
       "        </tr>\n",
       "    </thead>\n",
       "    <tbody>\n",
       "        <tr>\n",
       "            <td>Row 4</td> <td>?                </td> <td>N/A         </td>\n",
       "        </tr>\n",
       "        <tr>\n",
       "            <td>Row 3</td> <td>?                </td> <td>N/A         </td>\n",
       "        </tr>\n",
       "        <tr>\n",
       "            <td>Row 2</td> <td>?                </td> <td>N/A         </td>\n",
       "        </tr>\n",
       "        <tr>\n",
       "            <td>Row 1</td> <td>Ethan Chang      </td> <td>Data Science</td>\n",
       "        </tr>\n",
       "    </tbody>\n",
       "</table>"
      ],
      "text/plain": [
       "<IPython.core.display.HTML object>"
      ]
     },
     "metadata": {},
     "output_type": "display_data"
    },
    {
     "data": {
      "text/html": [
       "<table border=\"1\" class=\"dataframe\">\n",
       "    <thead>\n",
       "        <tr>\n",
       "            <th>Label</th> <th>Course Assistants</th> <th>Major</th>\n",
       "        </tr>\n",
       "    </thead>\n",
       "    <tbody>\n",
       "        <tr>\n",
       "            <td>Row 2</td> <td>?                </td> <td>N/A         </td>\n",
       "        </tr>\n",
       "        <tr>\n",
       "            <td>Row 1</td> <td>Ethan Chang      </td> <td>Data Science</td>\n",
       "        </tr>\n",
       "    </tbody>\n",
       "</table>"
      ],
      "text/plain": [
       "<IPython.core.display.HTML object>"
      ]
     },
     "metadata": {},
     "output_type": "display_data"
    }
   ],
   "source": [
    "ca_sort = ca_table.copy()\n",
    "\n",
    "# sorting in descending order, see how the Row # starts with 4 then goes to 1\n",
    "ca_sort.sort('Label', descending=True).show()\n",
    "\n",
    "# sorting while removing non-unique values, all but one row with '?' is gone\n",
    "ca_sort.sort('Course Assistants', distinct=True).show()"
   ]
  },
  {
   "cell_type": "markdown",
   "metadata": {},
   "source": [
    "#### t.where(*column_or_label, value_or_predicate=None, other=None*) (Lec #3)\n",
    "\n",
    "'where' takes in up to three arguments: \n",
    "- the first one being a column of the table as either a label/name (str) or an index (int)\n",
    "- the second being a function that is applied to every value in the specified column and keeps values that are True, or if value_or_predicate is a single value, only rows that are equal to the value in the specified column are kept\n",
    "- the third being an optional label to make pairwise comparisons\n",
    "\n",
    "There are a variety of predicates that can be used [here](http://data8.org/datascience/predicates.html?highlight=#datascience.predicates.are) is a list of all of them with examples."
   ]
  },
  {
   "cell_type": "code",
   "execution_count": 24,
   "metadata": {},
   "outputs": [
    {
     "name": "stdout",
     "output_type": "stream",
     "text": [
      "Base Table\n"
     ]
    },
    {
     "data": {
      "text/html": [
       "<table border=\"1\" class=\"dataframe\">\n",
       "    <thead>\n",
       "        <tr>\n",
       "            <th>Label</th> <th>Course Assistants</th> <th>Major</th> <th>Extra</th>\n",
       "        </tr>\n",
       "    </thead>\n",
       "    <tbody>\n",
       "        <tr>\n",
       "            <td>Row 1</td> <td>Ethan Chang      </td> <td>Data Science</td> <td>?    </td>\n",
       "        </tr>\n",
       "        <tr>\n",
       "            <td>Row 2</td> <td>?                </td> <td>N/A         </td> <td>?    </td>\n",
       "        </tr>\n",
       "        <tr>\n",
       "            <td>Row 3</td> <td>?                </td> <td>N/A         </td> <td>?    </td>\n",
       "        </tr>\n",
       "        <tr>\n",
       "            <td>Row 4</td> <td>?                </td> <td>N/A         </td> <td>?    </td>\n",
       "        </tr>\n",
       "    </tbody>\n",
       "</table>"
      ],
      "text/plain": [
       "<IPython.core.display.HTML object>"
      ]
     },
     "metadata": {},
     "output_type": "display_data"
    },
    {
     "name": "stdout",
     "output_type": "stream",
     "text": [
      "\n",
      " Table #1\n"
     ]
    },
    {
     "data": {
      "text/html": [
       "<table border=\"1\" class=\"dataframe\">\n",
       "    <thead>\n",
       "        <tr>\n",
       "            <th>Label</th> <th>Course Assistants</th> <th>Major</th> <th>Extra</th>\n",
       "        </tr>\n",
       "    </thead>\n",
       "    <tbody>\n",
       "        <tr>\n",
       "            <td>Row 1</td> <td>Ethan Chang      </td> <td>Data Science</td> <td>?    </td>\n",
       "        </tr>\n",
       "    </tbody>\n",
       "</table>"
      ],
      "text/plain": [
       "<IPython.core.display.HTML object>"
      ]
     },
     "metadata": {},
     "output_type": "display_data"
    },
    {
     "name": "stdout",
     "output_type": "stream",
     "text": [
      "\n",
      " Table #2\n"
     ]
    },
    {
     "data": {
      "text/html": [
       "<table border=\"1\" class=\"dataframe\">\n",
       "    <thead>\n",
       "        <tr>\n",
       "            <th>Label</th> <th>Course Assistants</th> <th>Major</th> <th>Extra</th>\n",
       "        </tr>\n",
       "    </thead>\n",
       "    <tbody>\n",
       "        <tr>\n",
       "            <td>Row 2</td> <td>?                </td> <td>N/A  </td> <td>?    </td>\n",
       "        </tr>\n",
       "        <tr>\n",
       "            <td>Row 3</td> <td>?                </td> <td>N/A  </td> <td>?    </td>\n",
       "        </tr>\n",
       "        <tr>\n",
       "            <td>Row 4</td> <td>?                </td> <td>N/A  </td> <td>?    </td>\n",
       "        </tr>\n",
       "    </tbody>\n",
       "</table>"
      ],
      "text/plain": [
       "<IPython.core.display.HTML object>"
      ]
     },
     "metadata": {},
     "output_type": "display_data"
    },
    {
     "name": "stdout",
     "output_type": "stream",
     "text": [
      "\n",
      " Table #3\n"
     ]
    },
    {
     "data": {
      "text/html": [
       "<table border=\"1\" class=\"dataframe\">\n",
       "    <thead>\n",
       "        <tr>\n",
       "            <th>Label</th> <th>Course Assistants</th> <th>Major</th> <th>Extra</th>\n",
       "        </tr>\n",
       "    </thead>\n",
       "    <tbody>\n",
       "        <tr>\n",
       "            <td>Row 1</td> <td>Ethan Chang      </td> <td>Data Science</td> <td>?    </td>\n",
       "        </tr>\n",
       "        <tr>\n",
       "            <td>Row 2</td> <td>?                </td> <td>N/A         </td> <td>?    </td>\n",
       "        </tr>\n",
       "        <tr>\n",
       "            <td>Row 3</td> <td>?                </td> <td>N/A         </td> <td>?    </td>\n",
       "        </tr>\n",
       "        <tr>\n",
       "            <td>Row 4</td> <td>?                </td> <td>N/A         </td> <td>?    </td>\n",
       "        </tr>\n",
       "    </tbody>\n",
       "</table>"
      ],
      "text/plain": [
       "<IPython.core.display.HTML object>"
      ]
     },
     "metadata": {},
     "output_type": "display_data"
    }
   ],
   "source": [
    "ca_where = ca_table.with_columns(\n",
    "    'Extra', ['?' for i in range(4)]\n",
    ")\n",
    "print('Base Table')\n",
    "ca_where.show()\n",
    "\n",
    "\n",
    "# shows rows in the table where there is a '?' in the 'Course Assistants' column\n",
    "# where(column, value) is what is being used\n",
    "print('\\n', 'Table #1')\n",
    "ca_where.where('Course Assistants', 'Ethan Chang').show()\n",
    "\n",
    "# shows rows in the table where values in 'Course Assistants' are equal to 'Extra'\n",
    "# where(column, predicate, column) is being used, are.equal_to is a predicate\n",
    "print('\\n', 'Table #2')\n",
    "ca_where.where('Course Assistants', are.equal_to, 'Extra').show()\n",
    "\n",
    "# shows rows in the table where values in 'Extra' are equal to '?' (which is all values)\n",
    "# where(column, predicate) is being used here\n",
    "# this is similar to the first example with 'Ethan Chang', but this one uses are.equal_to()\n",
    "print('\\n', 'Table #3')\n",
    "ca_where.where('Extra', are.equal_to('?')).show()"
   ]
  },
  {
   "cell_type": "markdown",
   "metadata": {},
   "source": [
    "---\n",
    "## **GitHub** <a id='github'></a>\n",
    "\n",
    "GitHub is a website where people can store the code they wrote for specific projects. It also allows developers to collaborate together and identify bugs/issues. This guide is on GitHub, and if there is an problem with the guide or suggestion you have, you can create a new issue on GitHub to let the contributors know. \n",
    "\n",
    "If you are considering going into a field with software development intertwined into it in any form, it would be essential to learn how to use Git and GitHub, or one of their alternatives."
   ]
  }
 ],
 "metadata": {
  "kernelspec": {
   "display_name": "Python 3.10.1 64-bit",
   "language": "python",
   "name": "python3"
  },
  "language_info": {
   "codemirror_mode": {
    "name": "ipython",
    "version": 3
   },
   "file_extension": ".py",
   "mimetype": "text/x-python",
   "name": "python",
   "nbconvert_exporter": "python",
   "pygments_lexer": "ipython3",
   "version": "3.10.7"
  },
  "orig_nbformat": 4,
  "vscode": {
   "interpreter": {
    "hash": "3a8d20506be82a4461f9b41041c14fdfe08e8897388d050f9d1ea4a80103d22a"
   }
  }
 },
 "nbformat": 4,
 "nbformat_minor": 2
}
